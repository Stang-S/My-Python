{
 "cells": [
  {
   "cell_type": "code",
   "execution_count": 7,
   "metadata": {},
   "outputs": [
    {
     "name": "stdout",
     "output_type": "stream",
     "text": [
      "C  =  123.0\n",
      "Fa = 253.40\n",
      "Ka = 396.15\n"
     ]
    }
   ],
   "source": [
    "def F (c):\n",
    "    F = 9/5*c+32\n",
    "    return F\n",
    "\n",
    "def K (c):\n",
    "    K = c + 273.15\n",
    "    return K\n",
    "\n",
    "c = float(input(\"Enter Degree C = \"))\n",
    "print(\"C  = \" ,c)\n",
    "print(\"Fa = %.2f\" % F(c))\n",
    "print(\"Ka = %.2f\" % K(c))"
   ]
  }
 ],
 "metadata": {
  "kernelspec": {
   "display_name": "Python 3",
   "language": "python",
   "name": "python3"
  },
  "language_info": {
   "codemirror_mode": {
    "name": "ipython",
    "version": 3
   },
   "file_extension": ".py",
   "mimetype": "text/x-python",
   "name": "python",
   "nbconvert_exporter": "python",
   "pygments_lexer": "ipython3",
   "version": "3.12.4"
  }
 },
 "nbformat": 4,
 "nbformat_minor": 2
}
