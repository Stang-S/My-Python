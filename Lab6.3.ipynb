{
 "cells": [
  {
   "cell_type": "code",
   "execution_count": 1,
   "metadata": {},
   "outputs": [
    {
     "name": "stdout",
     "output_type": "stream",
     "text": [
      "Collect score =  20\n",
      "Affective score =  10\n",
      "Midterm score =  20\n",
      "50\n"
     ]
    }
   ],
   "source": [
    "CS = int(input(\"Collect score = \"))\n",
    "CSC = 20\n",
    "while CS > 20:\n",
    "    CS = int(input(\"Collect score = \"))\n",
    "\n",
    "print(\"Collect score = \", CS)\n",
    "\n",
    "\n",
    "AS = int(input(\"Affective score = \"))\n",
    "ASC = 10\n",
    "while AS > 10:\n",
    "    AS = int(input(\"Affective score = \"))\n",
    "\n",
    "print(\"Affective score = \", AS)\n",
    "\n",
    "\n",
    "MS = int(input(\"Midterm score = \"))\n",
    "MSC = 20\n",
    "while MS > 20:\n",
    "    MS = int(input(\"Midterm score = \"))\n",
    "\n",
    "print(\"Midterm score = \", MS)\n",
    "\n",
    "sum = (CS + AS + MS)\n",
    "print(sum)"
   ]
  }
 ],
 "metadata": {
  "kernelspec": {
   "display_name": "Python 3",
   "language": "python",
   "name": "python3"
  },
  "language_info": {
   "codemirror_mode": {
    "name": "ipython",
    "version": 3
   },
   "file_extension": ".py",
   "mimetype": "text/x-python",
   "name": "python",
   "nbconvert_exporter": "python",
   "pygments_lexer": "ipython3",
   "version": "3.12.4"
  }
 },
 "nbformat": 4,
 "nbformat_minor": 2
}
