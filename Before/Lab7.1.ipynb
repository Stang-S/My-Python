{
 "cells": [
  {
   "cell_type": "code",
   "execution_count": 54,
   "metadata": {},
   "outputs": [
    {
     "name": "stdout",
     "output_type": "stream",
     "text": [
      "Name : Stang\n",
      "Base Salary : 3000\n",
      "Over Time : 30\n",
      "Over Time Cost : 3000\n",
      "\n",
      "Sum Salary = 6000\n"
     ]
    }
   ],
   "source": [
    "\n",
    "def lesser (h):\n",
    "    sum = 0\n",
    "    sum = h * 100\n",
    "    return sum\n",
    "\n",
    "def more (h):\n",
    "    sum = 0\n",
    "    if h > 40:\n",
    "        sum = (h-40)*150\n",
    "    else:\n",
    "        sum = 0\n",
    "\n",
    "    \n",
    "    return sum\n",
    "\n",
    "n = input(\"Please Enter Your Name : \")\n",
    "b = int(input(\"Please Enter Your Base Salary : \"))\n",
    "H = int(input(\"Please Enter Your Hour(s) of Work : \"))\n",
    "M = (more(H))\n",
    "L = (lesser(H))\n",
    "S = L + M + b\n",
    "s = L + M\n",
    "print(\"Name : \" + str(n))\n",
    "print (\"Base Salary : \" + str(b))\n",
    "print (\"Over Time : \" + str(H))\n",
    "print (\"Over Time Cost : \" + str(s))\n",
    "print (\"\\nSum Salary = \" + str(S))\n"
   ]
  }
 ],
 "metadata": {
  "kernelspec": {
   "display_name": "Python 3",
   "language": "python",
   "name": "python3"
  },
  "language_info": {
   "codemirror_mode": {
    "name": "ipython",
    "version": 3
   },
   "file_extension": ".py",
   "mimetype": "text/x-python",
   "name": "python",
   "nbconvert_exporter": "python",
   "pygments_lexer": "ipython3",
   "version": "3.12.4"
  }
 },
 "nbformat": 4,
 "nbformat_minor": 2
}
