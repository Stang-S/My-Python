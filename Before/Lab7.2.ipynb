{
 "cells": [
  {
   "cell_type": "code",
   "execution_count": 14,
   "metadata": {},
   "outputs": [
    {
     "name": "stdout",
     "output_type": "stream",
     "text": [
      ".!entry3\n"
     ]
    }
   ],
   "source": [
    "import tkinter as tk\n",
    "app = tk.Tk()\n",
    "app.geometry(\"500x300\")\n",
    "\n",
    "def showme(n):\n",
    "    print(n)\n",
    "\n",
    "app.title('Hello STrANGer')\n",
    "label = tk.Label(text=\"Name : \")\n",
    "name = tk.Entry()\n",
    "label2 = tk.Label(text=\"Salary : \")\n",
    "salary = tk.Entry()\n",
    "btn = tk.Button(text=\"Click me\" , command=showme(name))\n",
    "\n",
    "\n",
    "\n",
    "label.place(x=50,y=50)\n",
    "name.place(x=150,y=50)\n",
    "btn.place(x=50,y=100)\n",
    "label2.place(x=50,y=100)\n",
    "salary.place(x=150,y=100)\n",
    "\n",
    "app.mainloop()"
   ]
  }
 ],
 "metadata": {
  "kernelspec": {
   "display_name": "Python 3",
   "language": "python",
   "name": "python3"
  },
  "language_info": {
   "codemirror_mode": {
    "name": "ipython",
    "version": 3
   },
   "file_extension": ".py",
   "mimetype": "text/x-python",
   "name": "python",
   "nbconvert_exporter": "python",
   "pygments_lexer": "ipython3",
   "version": "3.12.4"
  }
 },
 "nbformat": 4,
 "nbformat_minor": 2
}
